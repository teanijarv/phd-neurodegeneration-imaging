{
 "cells": [
  {
   "cell_type": "code",
   "execution_count": 7,
   "metadata": {},
   "outputs": [],
   "source": [
    "import os\n",
    "import sys\n",
    "import pandas as pd\n",
    "import warnings\n",
    "\n",
    "warnings.filterwarnings(action='ignore')\n",
    "\n",
    "src_path = os.path.abspath(os.path.join(os.getcwd(), '..', '..', '..', 'src'))\n",
    "if src_path not in sys.path:\n",
    "    sys.path.append(src_path)\n",
    "\n",
    "from pathology.core import (determine_amyloid_status, compute_roi_amyloid)\n",
    "from pathology.cutoffs import find_gmm_cutoff\n",
    "from connectomics.atlases import get_dk_rois\n",
    "\n",
    "# in\n",
    "data_dir = os.path.abspath(os.path.join(os.getcwd(), '..', 'data'))\n",
    "\n",
    "df_bf2_fname = os.path.join(data_dir, 'bf2_20240927', 'toomas__20240927_090835.csv')\n",
    "df_ld_fname = os.path.join(data_dir, 'datasets', 'bf2_tau_asymmetry_ad_long_tnic_fnc.csv')\n",
    "\n",
    "# out\n",
    "export_dir = os.path.join(data_dir, 'sila', 'in')\n",
    "os.makedirs(export_dir, exist_ok=True)"
   ]
  },
  {
   "cell_type": "code",
   "execution_count": 8,
   "metadata": {},
   "outputs": [
    {
     "name": "stdout",
     "output_type": "stream",
     "text": [
      "N (raw) = (16034, 2896)\n",
      "N (long) = (1390, 3185)\n"
     ]
    }
   ],
   "source": [
    "amy_prefix = 'fnc'\n",
    "\n",
    "# read raw BF2 & longitudinal datasets\n",
    "df_bf2 = pd.read_csv(df_bf2_fname, low_memory=False)\n",
    "print(f\"N (raw) = {df_bf2.shape}\")\n",
    "df_ld = pd.read_csv(df_ld_fname, low_memory=False, index_col=0)\n",
    "print(f\"N (long) = {df_ld.shape}\")\n",
    "\n",
    "# define ROIs\n",
    "ROIs = get_dk_rois()"
   ]
  },
  {
   "cell_type": "markdown",
   "metadata": {},
   "source": [
    "estimating cut-offs for the ROIs, but we are still using the established cut-off of 1.033 for amyloid positivity // this is more of a sanity check if we did everything correct"
   ]
  },
  {
   "cell_type": "code",
   "execution_count": 9,
   "metadata": {},
   "outputs": [
    {
     "name": "stdout",
     "output_type": "stream",
     "text": [
      "N (BF2 for cut-off estimation) = (1294, 2948)\n",
      "fnc_global GMM cut-off = 1.037\n",
      "fnc_temporal_meta GMM cut-off = 1.025\n",
      "fnc_early_amyloid GMM cut-off = 1.068\n",
      "fnc_intermediate_amyloid GMM cut-off = 1.031\n",
      "fnc_late_amyloid GMM cut-off = 1.059\n"
     ]
    }
   ],
   "source": [
    "### cut-offs of amyloid PET\n",
    "\n",
    "cutoff_ROIs = [f'{amy_prefix}_global', f'{amy_prefix}_temporal_meta', f'{amy_prefix}_early_amyloid', \n",
    "               f'{amy_prefix}_intermediate_amyloid', f'{amy_prefix}_late_amyloid']\n",
    "\n",
    "# sample selection\n",
    "df_gmm = df_bf2.copy()\n",
    "df_gmm = df_gmm[df_gmm['excluded']!=1]\n",
    "df_gmm = df_gmm[df_gmm['diagnosis_baseline_variable'].isin(['AD', 'SCD', 'MCI', 'Normal'])]\n",
    "df_gmm = df_gmm.loc[df_gmm['age']>50]\n",
    "df_gmm['amyloid_positive'] = df_gmm.apply(determine_amyloid_status, axis=1)\n",
    "df_gmm = df_gmm.loc[df_gmm.groupby('mid')['Visit'].idxmin()]\n",
    "\n",
    "# PET averages in all defined ROIs for both hemispheres\n",
    "for ROI_name, ROI_regions in ROIs.items():\n",
    "    df_gmm[f'{amy_prefix}_{ROI_name}_left'] = compute_roi_amyloid(df_gmm, ROI_regions, ['_lh_', '_Left'])\n",
    "    df_gmm[f'{amy_prefix}_{ROI_name}_right'] = compute_roi_amyloid(df_gmm, ROI_regions, ['_rh_', '_Right'])\n",
    "    df_gmm[f'{amy_prefix}_{ROI_name}'] = compute_roi_amyloid(df_gmm, ROI_regions, ['_lh_', '_Left', '_rh_', '_Right'])\n",
    "\n",
    "df_gmm = df_gmm.dropna(subset=cutoff_ROIs)\n",
    "print(f\"N (BF2 for cut-off estimation) = {df_gmm.shape}\")\n",
    "\n",
    "cutoffs = {}\n",
    "for amy_col in cutoff_ROIs:\n",
    "    cutoffs[amy_col] = find_gmm_cutoff(scores_gmm=df_gmm[amy_col].to_numpy(), roi_name=amy_col, verbose=True, plot_gmm=False)"
   ]
  },
  {
   "cell_type": "code",
   "execution_count": 10,
   "metadata": {},
   "outputs": [
    {
     "name": "stdout",
     "output_type": "stream",
     "text": [
      "N (long df for SILA) = (961, 12)\n"
     ]
    }
   ],
   "source": [
    "# export longitudinal df for SILA modelling in MATLAB\n",
    "df_ld_ac = df_ld.copy()\n",
    "df_ld_ac = df_ld_ac[['sid', 'age'] + [roi+'_left' for roi in cutoff_ROIs] + [roi+'_right' for roi in cutoff_ROIs]]\\\n",
    "    .dropna().reset_index(drop=True)\n",
    "df_ld_ac['sid'] = df_ld_ac['sid'].str.replace('BF', '').astype(int)\n",
    "df_ld_ac.to_csv(os.path.join(export_dir, 'bf2_tau_asymmetry_ad_long_SILA_in.csv'), index=None)\n",
    "print(f\"N (long df for SILA) = {df_ld_ac.shape}\")"
   ]
  }
 ],
 "metadata": {
  "kernelspec": {
   "display_name": "datascience",
   "language": "python",
   "name": "python3"
  },
  "language_info": {
   "codemirror_mode": {
    "name": "ipython",
    "version": 3
   },
   "file_extension": ".py",
   "mimetype": "text/x-python",
   "name": "python",
   "nbconvert_exporter": "python",
   "pygments_lexer": "ipython3",
   "version": "3.11.5"
  }
 },
 "nbformat": 4,
 "nbformat_minor": 2
}
